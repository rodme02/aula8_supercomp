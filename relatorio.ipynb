{
 "cells": [
  {
   "cell_type": "markdown",
   "metadata": {},
   "source": [
    "## Tempo de Execução\n",
    "\n",
    "Os algoritmos da aula 7, como Embaralhar e Preencher e Seleção Aleatória, tiveram tempos de execução mais curtos, principalmente o Embaralhar e Preencher, que foi consistentemente o mais rápido. Na Entrada 1, o tempo de execução foi de 300 ns, e na Entrada 2 foi de apenas 500 ns. Isso mostra que essa abordagem é altamente eficiente em termos de tempo, mas, como veremos, há um custo em termos da qualidade das soluções. O Seleção Aleatória, embora mais lento, ainda manteve tempos relativamente curtos, como 5900 ns na Entrada 1 e 8800 ns na Entrada 2.\n",
    "\n",
    "Os algoritmos da aula 8, como Substituição de Objeto e Hill Climbing, apresentaram tempos mais elevados, especialmente o Substituição de Objeto, que teve o tempo mais longo nas três entradas, com destaque para a Entrada 2 (13800 ns). No entanto, o Hill Climbing mostrou-se rápido, com tempos como 800 ns na Entrada 1 e 1700 ns na Entrada 3, tornando-o uma boa opção quando o tempo de execução é uma preocupação, mas ainda com qualidade aceitável.\n",
    "\n",
    "## Qualidade das Soluções\n",
    "\n",
    "Em termos de valor total, os algoritmos da aula 8 superaram os da aula 7. O Substituição de Objeto foi o grande destaque, obtendo os melhores valores totais, como na Entrada 1, onde alcançou 548, muito acima dos 272 de Embaralhar e Preencher e dos 294 de Seleção Aleatória. Isso demonstra a eficácia da abordagem de tentar melhorar continuamente a solução inicial. Na Entrada 3, tanto Substituição de Objeto quanto Hill Climbing conseguiram alcançar o valor ótimo de 3320, enquanto o Seleção Aleatória ficou muito abaixo, com 1988, mostrando a inconsistência desse método.\n",
    "\n",
    "Hill Climbing teve um desempenho intermediário, encontrando boas soluções com tempos de execução mais curtos. Na Entrada 1, conseguiu um valor de 285, superando Embaralhar e Preencher (272), mas ficando abaixo do Substituição de Objeto (548). Já na Entrada 3, encontrou a solução ótima, igualando-se ao Substituição de Objeto com 3320.\n",
    "\n",
    "Os métodos da aula 7, como Embaralhar e Preencher e Seleção Aleatória, foram mais rápidos, mas consistentemente apresentaram valores totais mais baixos. Embaralhar e Preencher foi o mais rápido, mas o valor total foi consideravelmente menor nas primeiras duas entradas. Na Entrada 3, teve a sorte de encontrar a solução ótima (3320), o que demonstra que, embora seja rápido, é mais dependente de sorte em algumas entradas. Seleção Aleatória, apesar de às vezes encontrar boas soluções, como na Entrada 2 (348), foi inconsistente, especialmente na Entrada 3, onde ficou com um valor muito inferior (1988)."
   ]
  }
 ],
 "metadata": {
  "kernelspec": {
   "display_name": "Python 3",
   "language": "python",
   "name": "python3"
  },
  "language_info": {
   "codemirror_mode": {
    "name": "ipython",
    "version": 3
   },
   "file_extension": ".py",
   "mimetype": "text/x-python",
   "name": "python",
   "nbconvert_exporter": "python",
   "pygments_lexer": "ipython3",
   "version": "3.12.4"
  }
 },
 "nbformat": 4,
 "nbformat_minor": 2
}
